{
 "cells": [
  {
   "cell_type": "code",
   "execution_count": 1,
   "metadata": {},
   "outputs": [],
   "source": [
    "import pyglet\n",
    "import pyglet.media\n",
    "import time\n",
    "import numpy as np"
   ]
  },
  {
   "cell_type": "code",
   "execution_count": 2,
   "metadata": {},
   "outputs": [],
   "source": [
    "class TimeoutLoop:\n",
    "    \"\"\" universal for time-out loop \"\"\"\n",
    "    def __init__(self, timeout):\n",
    "        self.timeout = timeout\n",
    "    def __iter__(self):\n",
    "        self.start_time = time.time()\n",
    "        return self\n",
    "    def __next__(self):\n",
    "        now = time.time()\n",
    "        time_passed = now - self.start_time\n",
    "        if time_passed > self.timeout: \n",
    "            raise StopIteration\n",
    "        else:\n",
    "            return time_passed\n",
    "\n",
    "def generate_sound(dist, x, y):\n",
    "    #global player \n",
    "    player = pyglet.media.Player()\n",
    "    player.play()\n",
    "    \n",
    "    audio_x = x\n",
    "    audio_y = y\n",
    "    audio_z = dist/3\n",
    "\n",
    "    audio_dur = min(dist/2, 0.15)\n",
    "    idle_dur = dist\n",
    "\n",
    "    freq = 400 + y*100\n",
    "\n",
    "    wave = pyglet.media.synthesis.Triangle(audio_dur, freq)\n",
    "    player.position = (audio_x, audio_y, audio_z)\n",
    "    \n",
    "    player.queue(wave)\n",
    "\n",
    "    time.sleep(audio_dur+idle_dur)\n",
    "    player.delete()"
   ]
  },
  {
   "cell_type": "code",
   "execution_count": 3,
   "metadata": {},
   "outputs": [],
   "source": [
    "for x in np.arange(-1.5,1.5,0.2):\n",
    "    generate_sound(0.5, x, 0)\n"
   ]
  },
  {
   "cell_type": "code",
   "execution_count": 4,
   "metadata": {},
   "outputs": [],
   "source": [
    "for y in np.arange(-1,1,0.2):\n",
    "    generate_sound(0.1, 0, y)"
   ]
  },
  {
   "cell_type": "code",
   "execution_count": 5,
   "metadata": {},
   "outputs": [],
   "source": [
    "for z in np.arange(1,0.05,-0.05):\n",
    "    for i in range(1):\n",
    "        generate_sound(z, 0, 0)\n",
    "    #time.sleep(1)"
   ]
  }
 ],
 "metadata": {
  "kernelspec": {
   "display_name": "Python 3.8.10 ('.venv': venv)",
   "language": "python",
   "name": "python3"
  },
  "language_info": {
   "codemirror_mode": {
    "name": "ipython",
    "version": 3
   },
   "file_extension": ".py",
   "mimetype": "text/x-python",
   "name": "python",
   "nbconvert_exporter": "python",
   "pygments_lexer": "ipython3",
   "version": "3.8.10"
  },
  "orig_nbformat": 4,
  "vscode": {
   "interpreter": {
    "hash": "05baf30cd4fa8f67af7533220e16db02df6eb122baeda4cc0ca3375870e5b880"
   }
  }
 },
 "nbformat": 4,
 "nbformat_minor": 2
}
